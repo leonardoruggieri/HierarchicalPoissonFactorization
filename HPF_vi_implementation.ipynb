{
  "nbformat": 4,
  "nbformat_minor": 0,
  "metadata": {
    "colab": {
      "name": "Untitled1.ipynb",
      "provenance": [],
      "collapsed_sections": [],
      "toc_visible": true
    },
    "kernelspec": {
      "name": "python3",
      "display_name": "Python 3"
    }
  },
  "cells": [
    {
      "cell_type": "markdown",
      "metadata": {
        "id": "QwNaEc-CapXc",
        "colab_type": "text"
      },
      "source": [
        "# Scalable Recommendation with Poisson Factorization\n",
        "#### The following notebook is an implementation of the mean-field variational algorithm for approximate posterior inference for the Hierarchical Poisson Factorization, by Gopalan et al. (2013), followed by some visualizations."
      ]
    },
    {
      "cell_type": "markdown",
      "metadata": {
        "id": "mSr1_WEebqXV",
        "colab_type": "text"
      },
      "source": [
        "The module **hpf_vi** contains the model implemented."
      ]
    },
    {
      "cell_type": "code",
      "metadata": {
        "id": "VMQPOAo9asrL",
        "colab_type": "code",
        "colab": {}
      },
      "source": [
        "import numpy as np\n",
        "import matplotlib.pyplot as plt\n",
        "import pandas as pd\n",
        "import scipy.special\n",
        "import scipy.stats\n",
        "import sklearn.metrics\n",
        "from hpf_vi_while import hpf_vi_while\n",
        "from sklearn.metrics import mean_squared_error"
      ],
      "execution_count": 0,
      "outputs": []
    },
    {
      "cell_type": "code",
      "metadata": {
        "id": "oAIjyc_EatKO",
        "colab_type": "code",
        "colab": {}
      },
      "source": [
        "ratings = pd.read_pickle(\"ratings_df.pkl\")\n",
        "ratings = np.array(ratings)"
      ],
      "execution_count": 0,
      "outputs": []
    },
    {
      "cell_type": "markdown",
      "metadata": {
        "id": "haNqsbu2a74K",
        "colab_type": "text"
      },
      "source": [
        "We are in a parametric framework, hence the number of latent components is fixed. This hypothesis suggests that the model choice will not be automatic as in a non-parametric setup. Nevertheless, I ignore these difficulties for the moment, and fix $K$ to be equal to 10.\n",
        "\n",
        "## Initialization of the variational parameters\n",
        "The model implemented initialize the user parameters $\\gamma_u$, and the item parameters $\\lambda_i$ to the prior, plus a small random offset generated with a $\\text{Uniform}(0,1)$.\n",
        "\n",
        "In this way, $\\gamma^{shp}_{uk} = a$ and $\\gamma^{rte}_{uk} = a/b'$, so that the expectation of the variational $\\theta$ is $b'$.\\\n",
        "Similarly, $\\lambda_{ik}^{shp} = c$ and $\\lambda_{ik}^{rte} = c/d'$, so that the expectation of the variational $\\theta$ is $d'$.\n",
        "\n",
        "Going up in the hierarchy, for the same reason, we set the variational parameters of $\\xi_u$ and $\\eta_i$, which are $k^{rte}_u$ and $\\tau_i^{rte}$, to the prior, plus the same small random offset.\n",
        "\n",
        "This initialization is embedded in the **hpf_vi** model."
      ]
    },
    {
      "cell_type": "code",
      "metadata": {
        "id": "9GT_oO9Va9Q4",
        "colab_type": "code",
        "colab": {}
      },
      "source": [
        "ratings_toy = [[0,0,0,0,0,1,1,1,0,0,0,0,1,0,0],[0,0,0,0,0,1,1,0,0,0,0,1,1,0,0],[0,0,0,0,0,1,1,1,0,0,0,0,0,0,0],[0,0,0,0,0,1,0,1,0,0,0,1,1,0,0],[0,0,1,1,0,0,0,0,0,0,0,0,0,0,0],[0,0,1,0,0,0,0,0,0,0,0,0,0,0,0],[0,0,1,1,0,0,0,0,0,0,0,0,0,0,0],[0,0,0,1,0,0,0,0,0,0,0,0,0,0,0],[1,0,0,0,1,0,0,0,0,0,0,0,0,1,1],[1,0,0,0,0,0,0,0,0,0,0,0,0,0,1]]\n",
        "ratings_toy = np.array(ratings_toy)"
      ],
      "execution_count": 0,
      "outputs": []
    },
    {
      "cell_type": "markdown",
      "metadata": {
        "id": "QEoOc-eOqAMh",
        "colab_type": "text"
      },
      "source": [
        "In the following, a function to split training and testing data is defined.\\\n",
        "As suggested by the authors of the paper, the test set consists of randomly selected ratings, which are set to zero during the training."
      ]
    },
    {
      "cell_type": "code",
      "metadata": {
        "id": "ows1HigNbjYN",
        "colab_type": "code",
        "colab": {}
      },
      "source": [
        " def train_val_split(data, valid_dim=0.2):\n",
        "        '''\n",
        "        Creating two additional objects, i.e. training and validation set, which can be used in the fitting process\n",
        "\n",
        "        Parameters:\n",
        "        data = np.array\n",
        "        valid_dim = float\n",
        "        '''\n",
        "        if valid_dim >= 1:\n",
        "          raise ValueError(\"valid_dim must be lower than 1\")\n",
        "\n",
        "        train = data.copy()\n",
        "        valid = np.zeros(data.shape)\n",
        "\n",
        "        for u in np.unique(data.nonzero()[0]):\n",
        "            ind = data[u].nonzero()[0] \n",
        "\n",
        "            if len(ind) > 0: \n",
        "                valid_ind = np.random.choice(ind, round(len(ind)*valid_dim), replace=False)\n",
        "                for i in valid_ind:\n",
        "                    valid[u,i], train[u,i] = data[u,i], 0\n",
        "        return train, valid\n",
        "\n",
        "train, valid = train_val_split(ratings_toy)"
      ],
      "execution_count": 0,
      "outputs": []
    },
    {
      "cell_type": "markdown",
      "metadata": {
        "id": "HQ5dZPZ5qLDb",
        "colab_type": "text"
      },
      "source": [
        "We can now fit the model, using the predefined settings."
      ]
    },
    {
      "cell_type": "code",
      "metadata": {
        "id": "diB_mHnmiN1p",
        "colab_type": "code",
        "colab": {
          "base_uri": "https://localhost:8080/",
          "height": 300
        },
        "outputId": "66d76278-76bd-4056-88e2-ac46f0bb1f3a"
      },
      "source": [
        "model = hpf_vi_while() # instantiating the model\n",
        "model.fit(train, valid = valid, iterations = 100)"
      ],
      "execution_count": 177,
      "outputs": [
        {
          "output_type": "error",
          "ename": "AttributeError",
          "evalue": "ignored",
          "traceback": [
            "\u001b[0;31m---------------------------------------------------------------------------\u001b[0m",
            "\u001b[0;31mAttributeError\u001b[0m                            Traceback (most recent call last)",
            "\u001b[0;32m<ipython-input-177-72bfed95e2b3>\u001b[0m in \u001b[0;36m<module>\u001b[0;34m()\u001b[0m\n\u001b[1;32m      1\u001b[0m \u001b[0mmodel\u001b[0m \u001b[0;34m=\u001b[0m \u001b[0mhpf_vi_while\u001b[0m\u001b[0;34m(\u001b[0m\u001b[0;34m)\u001b[0m \u001b[0;31m# instantiating the model\u001b[0m\u001b[0;34m\u001b[0m\u001b[0;34m\u001b[0m\u001b[0m\n\u001b[0;32m----> 2\u001b[0;31m \u001b[0mmodel\u001b[0m\u001b[0;34m.\u001b[0m\u001b[0mfit\u001b[0m\u001b[0;34m(\u001b[0m\u001b[0mtrain\u001b[0m\u001b[0;34m,\u001b[0m \u001b[0mvalid\u001b[0m \u001b[0;34m=\u001b[0m \u001b[0mvalid\u001b[0m\u001b[0;34m,\u001b[0m \u001b[0miterations\u001b[0m \u001b[0;34m=\u001b[0m \u001b[0;36m100\u001b[0m\u001b[0;34m)\u001b[0m\u001b[0;34m\u001b[0m\u001b[0;34m\u001b[0m\u001b[0m\n\u001b[0m",
            "\u001b[0;32m/content/hpf_vi_while.py\u001b[0m in \u001b[0;36mfit\u001b[0;34m(self, train, iterations, valid)\u001b[0m\n\u001b[1;32m     71\u001b[0m             \u001b[0mself\u001b[0m\u001b[0;34m.\u001b[0m\u001b[0mbeta\u001b[0m \u001b[0;34m=\u001b[0m \u001b[0mself\u001b[0m\u001b[0;34m.\u001b[0m\u001b[0mlambda_shp\u001b[0m\u001b[0;34m/\u001b[0m\u001b[0mself\u001b[0m\u001b[0;34m.\u001b[0m\u001b[0mlambda_rte\u001b[0m\u001b[0;34m\u001b[0m\u001b[0;34m\u001b[0m\u001b[0m\n\u001b[1;32m     72\u001b[0m \u001b[0;34m\u001b[0m\u001b[0m\n\u001b[0;32m---> 73\u001b[0;31m             \u001b[0;31m# Generating observations y\u001b[0m\u001b[0;34m\u001b[0m\u001b[0;34m\u001b[0m\u001b[0;34m\u001b[0m\u001b[0m\n\u001b[0m\u001b[1;32m     74\u001b[0m             \u001b[0mself\u001b[0m\u001b[0;34m.\u001b[0m\u001b[0mpredicted\u001b[0m \u001b[0;34m=\u001b[0m \u001b[0mnp\u001b[0m\u001b[0;34m.\u001b[0m\u001b[0mdot\u001b[0m\u001b[0;34m(\u001b[0m\u001b[0mself\u001b[0m\u001b[0;34m.\u001b[0m\u001b[0mtheta\u001b[0m\u001b[0;34m,\u001b[0m \u001b[0mself\u001b[0m\u001b[0;34m.\u001b[0m\u001b[0mbeta\u001b[0m\u001b[0;34m.\u001b[0m\u001b[0mT\u001b[0m\u001b[0;34m)\u001b[0m\u001b[0;34m\u001b[0m\u001b[0;34m\u001b[0m\u001b[0m\n\u001b[1;32m     75\u001b[0m \u001b[0;34m\u001b[0m\u001b[0m\n",
            "\u001b[0;31mAttributeError\u001b[0m: 'hpf_vi_while' object has no attribute 'train'"
          ]
        }
      ]
    },
    {
      "cell_type": "code",
      "metadata": {
        "id": "1ESxC0VRqoOr",
        "colab_type": "code",
        "colab": {
          "base_uri": "https://localhost:8080/",
          "height": 34
        },
        "outputId": "3e83f250-fbf7-434a-c7c5-881afccdbe10"
      },
      "source": [
        "[j for i,j in enumerate(np.argsort(model.predicted[0])[::-1])]"
      ],
      "execution_count": 107,
      "outputs": [
        {
          "output_type": "execute_result",
          "data": {
            "text/plain": [
              "[5, 12, 7, 6, 11, 3, 2, 14, 13, 10, 9, 8, 4, 1, 0]"
            ]
          },
          "metadata": {
            "tags": []
          },
          "execution_count": 107
        }
      ]
    },
    {
      "cell_type": "code",
      "metadata": {
        "id": "FkJPzQTAjFv0",
        "colab_type": "code",
        "colab": {
          "base_uri": "https://localhost:8080/",
          "height": 232
        },
        "outputId": "4aa0c107-2ac0-4867-83b9-7e9ffaabb27a"
      },
      "source": [
        "ranking = np.zeros(shape = (ratings_toy.shape[0], ratings_toy.shape[1]))\n",
        "names = [\"Anna\", \"Baldo\", \"Carlo\", \"Dante\", \"Emma\", \"Fabio\", \"Giorgio\", \"Helena\", \"Ida\", \"Lando\"]\n",
        "movies = [\"Lo squalo\", \"Quei bravi ragazzi\", \"Apocalypse Now\", \"Cantando sotto la pioggia\", \"Pulp Fiction\", \"Fight Club\", \"Toro scatenato\", \"L'appartamento\", \"C'era una volta il West\"]\n",
        "\n",
        "for u in train:\n",
        "    for h,i in enumerate(movies):\n",
        "        ranking[j] = ratings_pred[j]-ratings_toy[j]\n",
        "        if ranking[j,h] > 0.1:\n",
        "            print(f\"Hey {u}! You may also like this movie: {i}\")"
      ],
      "execution_count": 85,
      "outputs": [
        {
          "output_type": "error",
          "ename": "NameError",
          "evalue": "ignored",
          "traceback": [
            "\u001b[0;31m---------------------------------------------------------------------------\u001b[0m",
            "\u001b[0;31mNameError\u001b[0m                                 Traceback (most recent call last)",
            "\u001b[0;32m<ipython-input-85-41337f0d7c03>\u001b[0m in \u001b[0;36m<module>\u001b[0;34m()\u001b[0m\n\u001b[1;32m      5\u001b[0m \u001b[0;32mfor\u001b[0m \u001b[0mj\u001b[0m\u001b[0;34m,\u001b[0m\u001b[0mu\u001b[0m \u001b[0;32min\u001b[0m \u001b[0menumerate\u001b[0m\u001b[0;34m(\u001b[0m\u001b[0mnames\u001b[0m\u001b[0;34m)\u001b[0m\u001b[0;34m:\u001b[0m\u001b[0;34m\u001b[0m\u001b[0;34m\u001b[0m\u001b[0m\n\u001b[1;32m      6\u001b[0m     \u001b[0;32mfor\u001b[0m \u001b[0mh\u001b[0m\u001b[0;34m,\u001b[0m\u001b[0mi\u001b[0m \u001b[0;32min\u001b[0m \u001b[0menumerate\u001b[0m\u001b[0;34m(\u001b[0m\u001b[0mmovies\u001b[0m\u001b[0;34m)\u001b[0m\u001b[0;34m:\u001b[0m\u001b[0;34m\u001b[0m\u001b[0;34m\u001b[0m\u001b[0m\n\u001b[0;32m----> 7\u001b[0;31m         \u001b[0mranking\u001b[0m\u001b[0;34m[\u001b[0m\u001b[0mj\u001b[0m\u001b[0;34m]\u001b[0m \u001b[0;34m=\u001b[0m \u001b[0mratings_pred\u001b[0m\u001b[0;34m[\u001b[0m\u001b[0mj\u001b[0m\u001b[0;34m]\u001b[0m\u001b[0;34m-\u001b[0m\u001b[0mratings_toy\u001b[0m\u001b[0;34m[\u001b[0m\u001b[0mj\u001b[0m\u001b[0;34m]\u001b[0m\u001b[0;34m\u001b[0m\u001b[0;34m\u001b[0m\u001b[0m\n\u001b[0m\u001b[1;32m      8\u001b[0m         \u001b[0;32mif\u001b[0m \u001b[0mranking\u001b[0m\u001b[0;34m[\u001b[0m\u001b[0mj\u001b[0m\u001b[0;34m,\u001b[0m\u001b[0mh\u001b[0m\u001b[0;34m]\u001b[0m \u001b[0;34m>\u001b[0m \u001b[0;36m0.1\u001b[0m\u001b[0;34m:\u001b[0m\u001b[0;34m\u001b[0m\u001b[0;34m\u001b[0m\u001b[0m\n\u001b[1;32m      9\u001b[0m             \u001b[0mprint\u001b[0m\u001b[0;34m(\u001b[0m\u001b[0;34mf\"Hey {u}! You may also like this movie: {i}\"\u001b[0m\u001b[0;34m)\u001b[0m\u001b[0;34m\u001b[0m\u001b[0;34m\u001b[0m\u001b[0m\n",
            "\u001b[0;31mNameError\u001b[0m: name 'ratings_pred' is not defined"
          ]
        }
      ]
    },
    {
      "cell_type": "code",
      "metadata": {
        "id": "RBbUBb8FmKVI",
        "colab_type": "code",
        "colab": {
          "base_uri": "https://localhost:8080/",
          "height": 34
        },
        "outputId": "7745aecb-041a-4dad-f51b-cdcb0708579f"
      },
      "source": [
        "ratings_toy[0].nonzero()[0]"
      ],
      "execution_count": 111,
      "outputs": [
        {
          "output_type": "execute_result",
          "data": {
            "text/plain": [
              "array([ 5,  6,  7, 12])"
            ]
          },
          "metadata": {
            "tags": []
          },
          "execution_count": 111
        }
      ]
    },
    {
      "cell_type": "code",
      "metadata": {
        "id": "Jn4qLbdCF800",
        "colab_type": "code",
        "colab": {
          "base_uri": "https://localhost:8080/",
          "height": 85
        },
        "outputId": "dfd0a748-ca3b-49a6-9b21-55ba6da433e1"
      },
      "source": [
        "ratings_toy.nonzero()"
      ],
      "execution_count": 114,
      "outputs": [
        {
          "output_type": "execute_result",
          "data": {
            "text/plain": [
              "(array([0, 0, 0, 0, 1, 1, 1, 1, 2, 2, 2, 3, 3, 3, 3, 4, 4, 5, 6, 6, 7, 8,\n",
              "        8, 8, 8, 9, 9]),\n",
              " array([ 5,  6,  7, 12,  5,  6, 11, 12,  5,  6,  7,  5,  7, 11, 12,  2,  3,\n",
              "         2,  2,  3,  3,  0,  4, 13, 14,  0, 14]))"
            ]
          },
          "metadata": {
            "tags": []
          },
          "execution_count": 114
        }
      ]
    },
    {
      "cell_type": "code",
      "metadata": {
        "id": "b5rRnDefGT3y",
        "colab_type": "code",
        "colab": {
          "base_uri": "https://localhost:8080/",
          "height": 34
        },
        "outputId": "14b31915-7912-495b-d7c8-7eda547fbba1"
      },
      "source": [
        "np.unique(ratings_toy.nonzero()[0])"
      ],
      "execution_count": 122,
      "outputs": [
        {
          "output_type": "execute_result",
          "data": {
            "text/plain": [
              "array([0, 1, 2, 3, 4, 5, 6, 7, 8, 9])"
            ]
          },
          "metadata": {
            "tags": []
          },
          "execution_count": 122
        }
      ]
    },
    {
      "cell_type": "code",
      "metadata": {
        "id": "EbfZwy2cGg6K",
        "colab_type": "code",
        "colab": {
          "base_uri": "https://localhost:8080/",
          "height": 34
        },
        "outputId": "a5d3d072-654c-4a5a-8f66-02475dcb266a"
      },
      "source": [
        "ratings_toy[0,0]"
      ],
      "execution_count": 124,
      "outputs": [
        {
          "output_type": "execute_result",
          "data": {
            "text/plain": [
              "0"
            ]
          },
          "metadata": {
            "tags": []
          },
          "execution_count": 124
        }
      ]
    },
    {
      "cell_type": "code",
      "metadata": {
        "id": "euuhkbLWT8Xs",
        "colab_type": "code",
        "colab": {
          "base_uri": "https://localhost:8080/",
          "height": 283
        },
        "outputId": "4a7cbdb0-8b9e-4599-8830-2b72f3fba61b"
      },
      "source": [
        "mod.fit(ratings_toy,100)"
      ],
      "execution_count": 163,
      "outputs": [
        {
          "output_type": "error",
          "ename": "AttributeError",
          "evalue": "ignored",
          "traceback": [
            "\u001b[0;31m---------------------------------------------------------------------------\u001b[0m",
            "\u001b[0;31mAttributeError\u001b[0m                            Traceback (most recent call last)",
            "\u001b[0;32m<ipython-input-163-a3d8aa81c1d9>\u001b[0m in \u001b[0;36m<module>\u001b[0;34m()\u001b[0m\n\u001b[0;32m----> 1\u001b[0;31m \u001b[0mmod\u001b[0m\u001b[0;34m.\u001b[0m\u001b[0mfit\u001b[0m\u001b[0;34m(\u001b[0m\u001b[0mratings_toy\u001b[0m\u001b[0;34m,\u001b[0m\u001b[0;36m100\u001b[0m\u001b[0;34m)\u001b[0m\u001b[0;34m\u001b[0m\u001b[0;34m\u001b[0m\u001b[0m\n\u001b[0m",
            "\u001b[0;32m/content/hpf_vi_while.py\u001b[0m in \u001b[0;36mfit\u001b[0;34m(self, train, iterations, valid)\u001b[0m\n\u001b[1;32m     71\u001b[0m             \u001b[0mself\u001b[0m\u001b[0;34m.\u001b[0m\u001b[0mpredicted\u001b[0m \u001b[0;34m=\u001b[0m \u001b[0mnp\u001b[0m\u001b[0;34m.\u001b[0m\u001b[0mdot\u001b[0m\u001b[0;34m(\u001b[0m\u001b[0mself\u001b[0m\u001b[0;34m.\u001b[0m\u001b[0mtheta\u001b[0m\u001b[0;34m,\u001b[0m \u001b[0mself\u001b[0m\u001b[0;34m.\u001b[0m\u001b[0mbeta\u001b[0m\u001b[0;34m.\u001b[0m\u001b[0mT\u001b[0m\u001b[0;34m)\u001b[0m\u001b[0;34m\u001b[0m\u001b[0;34m\u001b[0m\u001b[0m\n\u001b[1;32m     72\u001b[0m \u001b[0;34m\u001b[0m\u001b[0m\n\u001b[0;32m---> 73\u001b[0;31m \u001b[0;34m\u001b[0m\u001b[0m\n\u001b[0m\u001b[1;32m     74\u001b[0m             \u001b[0;32mif\u001b[0m \u001b[0mvalid\u001b[0m \u001b[0;34m!=\u001b[0m \u001b[0;32mNone\u001b[0m\u001b[0;34m:\u001b[0m\u001b[0;34m\u001b[0m\u001b[0;34m\u001b[0m\u001b[0m\n\u001b[1;32m     75\u001b[0m                 \u001b[0mmse_valid\u001b[0m \u001b[0;34m=\u001b[0m \u001b[0mnp\u001b[0m\u001b[0;34m.\u001b[0m\u001b[0mzeros\u001b[0m\u001b[0;34m(\u001b[0m\u001b[0miterations\u001b[0m\u001b[0;34m)\u001b[0m\u001b[0;34m\u001b[0m\u001b[0;34m\u001b[0m\u001b[0m\n",
            "\u001b[0;31mAttributeError\u001b[0m: 'hpf_vi_while' object has no attribute 'train'"
          ]
        }
      ]
    },
    {
      "cell_type": "code",
      "metadata": {
        "id": "svnce07QT-G8",
        "colab_type": "code",
        "colab": {
          "base_uri": "https://localhost:8080/",
          "height": 34
        },
        "outputId": "3c76e2a5-61cd-4ca6-c67e-99f46941c4cf"
      },
      "source": [
        "mean_squared_error(ratings_toy,ratings_toy)"
      ],
      "execution_count": 157,
      "outputs": [
        {
          "output_type": "execute_result",
          "data": {
            "text/plain": [
              "0.0"
            ]
          },
          "metadata": {
            "tags": []
          },
          "execution_count": 157
        }
      ]
    },
    {
      "cell_type": "code",
      "metadata": {
        "id": "9V5fqnzIVLEF",
        "colab_type": "code",
        "colab": {}
      },
      "source": [
        ""
      ],
      "execution_count": 0,
      "outputs": []
    }
  ]
}